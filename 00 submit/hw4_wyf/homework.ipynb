{
 "cells": [
  {
   "cell_type": "markdown",
   "metadata": {},
   "source": [
    "<font size=6>作业3：人工神经网络</font><br>\n",
    "我们仍然会使用MNIST数据集来进行实验，本次实验不限模型的架构，请大家自行选择合适的架构编写程序<br>\n"
   ]
  },
  {
   "cell_type": "markdown",
   "metadata": {},
   "source": [
    "数据读入和预处理"
   ]
  },
  {
   "cell_type": "code",
   "execution_count": 2,
   "metadata": {},
   "outputs": [
    {
     "data": {
      "text/plain": [
       "'\\n注意！我们只读取了一个文件，需要把它平均分成两份，一份做训练集，一份做测试集\\n'"
      ]
     },
     "execution_count": 2,
     "metadata": {},
     "output_type": "execute_result"
    }
   ],
   "source": [
    "#读取手写数字书别.gz文件\n",
    "import gzip\n",
    "import numpy as np\n",
    "\n",
    "with gzip.open('./MNIST_dataset/train-images-idx3-ubyte.gz', 'rb') as f:\n",
    "    images = np.frombuffer(f.read(), np.uint8, offset=16)\n",
    "    images = images.reshape(-1, 28, 28)\n",
    "\n",
    "with gzip.open('./MNIST_dataset/train-labels-idx1-ubyte.gz', 'rb') as f:\n",
    "   labels = np.frombuffer(f.read(), np.uint8, offset=8)\n",
    "\n",
    "\n",
    "'''\n",
    "注意！我们只读取了一个文件，需要把它平均分成两份，一份做训练集，一份做测试集\n",
    "'''\n",
    "#todo1:完成数据的预处理，包括训练集测试集的划分，归一化，数据展成一维等，当然可以直接去调用第一次作业中写好的程序\n"
   ]
  },
  {
   "cell_type": "markdown",
   "metadata": {},
   "source": [
    "多层感知器的搭建<br>\n",
    "下面只提供一个模型的框架，大家可以参考<br>\n"
   ]
  },
  {
   "cell_type": "code",
   "execution_count": 3,
   "metadata": {},
   "outputs": [],
   "source": [
    "#该模型仅供参考，网络（csdn，github等）上有非常丰富的人工神经网络的实例，大家可以搜索参考\n",
    "def MLP(input_size,hidden_size,hidden_layer,output_size,activation_function='Sigmoid'):\n",
    "    '''\n",
    "    参数说明：\n",
    "    input_size：输入层大小\n",
    "    hidden_size：隐含变量个数\n",
    "    hidden_layer：隐含层个数\n",
    "    output_size：输出层大小\n",
    "    '''\n",
    "    def __init__(self):\n",
    "        self.input_size = input_size\n",
    "        self.hidden_size = hidden_size\n",
    "        self.hidden_layer = hidden_layer\n",
    "        self.output_size = output_size\n",
    "        self.W = []\n",
    "        self.b = []\n",
    "        #这里只是简单的随机初始化参数了\n",
    "        for i in range(hidden_layer):\n",
    "            if i == 0:\n",
    "                self.W.append(np.random.randn(self.input_size, self.hidden_size))\n",
    "                self.b.append(np.random.randn(self.hidden_size))\n",
    "            else:\n",
    "                self.W.append(np.random.randn(self.hidden_size, self.hidden_size))\n",
    "                self.b.append(np.random.randn(self.hidden_size))\n",
    "        self.W.append(np.random.randn(self.hidden_size, self.output_size))\n",
    "        self.b.append(np.random.randn(self.output_size))\n",
    "    def forward(self, x):\n",
    "        \n",
    "        '''\n",
    "        前向传播计算输出\n",
    "        x：输入数据\n",
    "        '''\n",
    "        #todo2：完成前向传播\n",
    "        if activation_function=='Sigmoid':\n",
    "            pass\n",
    "        elif activation_function=='ReLU':\n",
    "            pass\n",
    "        else:\n",
    "            pass\n",
    "    def backward(self, x, y, lamdba):\n",
    "        '''\n",
    "        反向传播更新梯度\n",
    "        x：输入数据\n",
    "        y：标签\n",
    "        lamdba：学习率\n",
    "        '''\n",
    "        #todo3：完成反向传播\n",
    "        if activation_function=='Sigmoid':\n",
    "            pass\n",
    "        elif activation_function=='ReLU':\n",
    "            pass\n",
    "        else:\n",
    "            pass\n",
    "    def train(self, x, y, lamdba, epoch):\n",
    "        '''\n",
    "        训练模型\n",
    "        x：输入数据\n",
    "        y：标签\n",
    "        lamdba：学习率\n",
    "        epoch：训练轮数\n",
    "        '''\n",
    "        #todo4：完成训练过程\n",
    "        pass\n",
    "    def predict(self, x):\n",
    "        '''\n",
    "        预测\n",
    "        x：输入数据\n",
    "        '''\n",
    "        #todo5：预测输出"
   ]
  },
  {
   "cell_type": "markdown",
   "metadata": {},
   "source": [
    "2.相同的隐含变量个数，探究不同隐含层个数对模型性能的影响<br>"
   ]
  },
  {
   "cell_type": "code",
   "execution_count": null,
   "metadata": {},
   "outputs": [],
   "source": [
    "inpute_size=0\n",
    "hidden_size=100\n",
    "#hidden_layer=1\n",
    "output_size=10\n",
    "#记得初始化上面的变量\n",
    "model_hidden_layer_1=MLP(input_size=inpute_size,hidden_size=hidden_size,hidden_layer=1,output_size=10)\n",
    "model_hidden_layer_3=MLP(input_size=inpute_size,hidden_size=hidden_size,hidden_layer=3,output_size=10)\n",
    "model_hidden_layer_5=MLP(input_size=inpute_size,hidden_size=hidden_size,hidden_layer=5,output_size=10)\n",
    "#todo6：完成训练和测试过程，并报告训练时间、绘制要求的图像"
   ]
  },
  {
   "cell_type": "markdown",
   "metadata": {},
   "source": [
    "3.激活函数换为ReLU，探究激活函数的不同对模型的影响"
   ]
  },
  {
   "cell_type": "code",
   "execution_count": null,
   "metadata": {},
   "outputs": [],
   "source": [
    "inpute_size=0\n",
    "hidden_size=100\n",
    "#hidden_layer=1\n",
    "output_size=10\n",
    "#记得初始化上面的变量\n",
    "model_ReLU=MLP(input_size=inpute_size,hidden_size=hidden_size,hidden_layer=1,output_size=10,activation_function='ReLU')\n",
    "#todo7：完成训练和测试过程，并报告训练时间、绘制要求的图像"
   ]
  },
  {
   "cell_type": "markdown",
   "metadata": {},
   "source": [
    "4.相同的隐含层个数，探究不同隐含变量个数对模型性能的影响<br>"
   ]
  },
  {
   "cell_type": "code",
   "execution_count": null,
   "metadata": {},
   "outputs": [],
   "source": [
    "inpute_size=0\n",
    "#hidden_size=0\n",
    "hidden_layer=1\n",
    "output_size=0\n",
    "#记得初始化上面的变量\n",
    "model_hidden_size_100=MLP(input_size=inpute_size,hidden_size=100,hidden_layer=1,output_size=10)\n",
    "model_hidden_size_300=MLP(input_size=inpute_size,hidden_size=300,hidden_layer=1,output_size=10)\n",
    "model_hidden_size_500=MLP(input_size=inpute_size,hidden_size=500,hidden_layer=1,output_size=10)\n",
    "#todo8：完成训练和测试过程，并报告训练时间、绘制要求的图像"
   ]
  },
  {
   "cell_type": "markdown",
   "metadata": {},
   "source": [
    "5.构建ResNet，完成模型的建构"
   ]
  },
  {
   "cell_type": "code",
   "execution_count": null,
   "metadata": {},
   "outputs": [],
   "source": []
  }
 ],
 "metadata": {
  "kernelspec": {
   "display_name": "train",
   "language": "python",
   "name": "python3"
  },
  "language_info": {
   "codemirror_mode": {
    "name": "ipython",
    "version": 3
   },
   "file_extension": ".py",
   "mimetype": "text/x-python",
   "name": "python",
   "nbconvert_exporter": "python",
   "pygments_lexer": "ipython3",
   "version": "3.11.5"
  }
 },
 "nbformat": 4,
 "nbformat_minor": 2
}
